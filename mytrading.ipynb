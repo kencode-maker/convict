{
 "cells": [
  {
   "cell_type": "code",
   "execution_count": 2,
   "id": "4ee570c8-d5ae-4463-91ff-f334717585c3",
   "metadata": {},
   "outputs": [
    {
     "name": "stdout",
     "output_type": "stream",
     "text": [
      "WARNING:tensorflow:From C:\\Users\\knsoftwares\\AppData\\Local\\Packages\\PythonSoftwareFoundation.Python.3.11_qbz5n2kfra8p0\\LocalCache\\local-packages\\Python311\\site-packages\\keras\\src\\losses.py:2976: The name tf.losses.sparse_softmax_cross_entropy is deprecated. Please use tf.compat.v1.losses.sparse_softmax_cross_entropy instead.\n",
      "\n"
     ]
    },
    {
     "data": {
      "text/plain": [
       "(920,)"
      ]
     },
     "execution_count": 2,
     "metadata": {},
     "output_type": "execute_result"
    }
   ],
   "source": [
    "import numpy as np\n",
    "import pandas as pd\n",
    "from keras.models import Sequential\n",
    "from keras.layers import Dense\n",
    "from keras.optimizers import SGD\n",
    "\n",
    "\n",
    "# Load the data\n",
    "jan = pd.read_csv('jan2023.csv')\n",
    "feb = pd.read_csv('feb2023.csv')\n",
    "march = pd.read_csv('march2023.csv')\n",
    "april = pd.read_csv('april2023.csv')\n",
    "may = pd.read_csv('may2023.csv')\n",
    "june = pd.read_csv('june2023.csv')\n",
    "july = pd.read_csv('july2023.csv')\n",
    "aug = pd.read_csv('aug2023.csv')\n",
    "sept = pd.read_csv('sept2023.csv')\n",
    "oct = pd.read_csv('oct2023.csv')\n",
    "\n",
    "# Get the 'open' values\n",
    "jan_open = jan['open'].values\n",
    "feb_open = feb['open'].values\n",
    "march_open = march['open'].values\n",
    "april_open = april['open'].values\n",
    "may_open = may['open'].values\n",
    "june_open = june['open'].values\n",
    "july_open = july['open'].values\n",
    "aug_open = aug['open'].values\n",
    "sept_open = sept['open'].values\n",
    "oct_open = oct['open'].values\n",
    "# Concatenate the arrays\n",
    "x_data = np.concatenate((jan_open, feb_open, march_open, april_open ,may_open ,june_open ,july_open ,aug_open ,sept_open,oct_open ))\n",
    "\n",
    "# Get the 'clase' values\n",
    "jan_close = jan['close'].values\n",
    "feb_close = feb['close'].values\n",
    "march_close = march['close'].values\n",
    "april_close = april['close'].values\n",
    "may_close = may['close'].values\n",
    "june_close = june['close'].values\n",
    "july_close = july['close'].values\n",
    "aug_close = aug['close'].values\n",
    "sept_close = sept['close'].values\n",
    "oct_close = oct['close'].values\n",
    "\n",
    "y_data = np.concatenate((jan_close, feb_close, march_close, april_close ,may_close ,june_close ,july_close,aug_close ,sept_close,oct_close ))\n",
    "# y_data = array[1::2]  # elements at odd indices\n",
    "\n",
    "# Split the data into train_x and train_\n",
    "\n",
    "train_x = x_data[:4000]\n",
    "train_y = y_data[:4000]\n",
    "test_x = x_data[4000:]\n",
    "test_y = y_data[4000:]\n",
    "\n",
    "test_x.shape\n",
    "\n",
    "\n"
   ]
  },
  {
   "cell_type": "code",
   "execution_count": null,
   "id": "885ab53f-8266-46d1-898e-ba170cc0cf49",
   "metadata": {},
   "outputs": [],
   "source": []
  },
  {
   "cell_type": "code",
   "execution_count": 1,
   "id": "0aabb1a3-3db6-471b-9792-47f51b309020",
   "metadata": {},
   "outputs": [
    {
     "ename": "NameError",
     "evalue": "name 'Sequential' is not defined",
     "output_type": "error",
     "traceback": [
      "\u001b[1;31m---------------------------------------------------------------------------\u001b[0m",
      "\u001b[1;31mNameError\u001b[0m                                 Traceback (most recent call last)",
      "Cell \u001b[1;32mIn[1], line 2\u001b[0m\n\u001b[0;32m      1\u001b[0m \u001b[38;5;66;03m# Create a Sequential model\u001b[39;00m\n\u001b[1;32m----> 2\u001b[0m model \u001b[38;5;241m=\u001b[39m \u001b[43mSequential\u001b[49m()\n\u001b[0;32m      4\u001b[0m \u001b[38;5;66;03m# Add a Dense layer with 32 units\u001b[39;00m\n\u001b[0;32m      5\u001b[0m model\u001b[38;5;241m.\u001b[39madd(Dense(\u001b[38;5;241m1\u001b[39m, input_shape\u001b[38;5;241m=\u001b[39m(\u001b[38;5;241m1\u001b[39m,)))\n",
      "\u001b[1;31mNameError\u001b[0m: name 'Sequential' is not defined"
     ]
    }
   ],
   "source": [
    "  # Create a Sequential model\n",
    "model = Sequential()\n",
    "\n",
    "# Add a Dense layer with 32 units\n",
    "model.add(Dense(1, input_shape=(1,)))\n",
    "\n",
    "# Compile the model with SGD optimizer and Mean Absolute Error loss function\n",
    "model.compile(optimizer=SGD(), loss='mean_absolute_error')\n",
    "\n",
    "# Fit the model\n",
    "history = model.fit(train_x, train_y, epochs=10)\n",
    "\n",
    "# Print the loss for each epoch\n",
    "for i, loss in enumerate(history.history['loss']):\n",
    "    print(f\"Epoch {i+1}, Loss: {loss}\")\n",
    "\n",
    "# Evaluate the model\n",
    "test_loss = model.evaluate(test_x, test_y)\n",
    "print(f\"Test Loss: {test_loss}\")\n",
    "\n",
    "\n",
    "# Predict the value\n",
    "value_to_predict = np.array([[1.05499]])\n",
    "predicted_value = model.predict(value_to_predict)\n",
    "print(f\"Predicted Value: {predicted_value}\")\n",
    "# Save the model\n",
    "model.save('fx_model_3.keras')"
   ]
  },
  {
   "cell_type": "code",
   "execution_count": 29,
   "id": "4ddcd913-324f-48b7-839f-1234c62c5368",
   "metadata": {},
   "outputs": [
    {
     "data": {
      "text/plain": [
       "460"
      ]
     },
     "execution_count": 29,
     "metadata": {},
     "output_type": "execute_result"
    }
   ],
   "source": [
    "test_y.size"
   ]
  },
  {
   "cell_type": "code",
   "execution_count": null,
   "id": "c2c274d9-cbcb-4882-a418-bf61553b497b",
   "metadata": {},
   "outputs": [],
   "source": []
  }
 ],
 "metadata": {
  "kernelspec": {
   "display_name": "Python 3 (ipykernel)",
   "language": "python",
   "name": "python3"
  },
  "language_info": {
   "codemirror_mode": {
    "name": "ipython",
    "version": 3
   },
   "file_extension": ".py",
   "mimetype": "text/x-python",
   "name": "python",
   "nbconvert_exporter": "python",
   "pygments_lexer": "ipython3",
   "version": "3.11.6"
  }
 },
 "nbformat": 4,
 "nbformat_minor": 5
}
